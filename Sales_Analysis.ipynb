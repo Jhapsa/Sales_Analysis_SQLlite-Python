{
 "cells": [
  {
   "cell_type": "code",
   "execution_count": 1,
   "id": "cc58f6e2-ff25-48bf-8d58-84f1ebea0bbf",
   "metadata": {},
   "outputs": [],
   "source": [
    "import sqlite3\n",
    "import pandas as pd\n",
    "import matplotlib.pyplot as plt"
   ]
  },
  {
   "cell_type": "code",
   "execution_count": 2,
   "id": "53f1f44e-140c-4f15-a4af-b4495da18edd",
   "metadata": {},
   "outputs": [],
   "source": [
    "conn = sqlite3.connect(\"sales_data.db\")\n",
    "\n",
    "conn.executescript(\"\"\"\n",
    "DROP TABLE IF EXISTS sales;\n",
    "CREATE TABLE sales (\n",
    "    id INTEGER PRIMARY KEY AUTOINCREMENT,\n",
    "    product TEXT,\n",
    "    quantity INTEGER,\n",
    "    price REAL\n",
    ");\n",
    "\n",
    "INSERT INTO sales (product, quantity, price) VALUES\n",
    "('Laptop', 3, 899.99),\n",
    "('Headphones', 10, 49.99),\n",
    "('Mouse', 7, 19.99),\n",
    "('Keyboard', 5, 59.99),\n",
    "('Monitor', 2, 199.99),\n",
    "('Laptop', 1, 899.99),\n",
    "('Mouse', 8, 24.99),\n",
    "('Headphones', 4, 79.99);\n",
    "\"\"\")\n",
    "\n",
    "conn.commit()"
   ]
  },
  {
   "cell_type": "code",
   "execution_count": 3,
   "id": "9e5128ab-d8f5-4b17-8e80-62df33bd6b5c",
   "metadata": {},
   "outputs": [],
   "source": [
    "query = \"\"\"\n",
    "SELECT \n",
    "    product,\n",
    "    SUM(quantity) AS total_qty,\n",
    "    ROUND(SUM(quantity * price), 2) AS revenue\n",
    "FROM sales\n",
    "GROUP BY product\n",
    "ORDER BY revenue DESC;\n",
    "\"\"\"\n",
    "\n",
    "df = pd.read_sql_query(query, conn)"
   ]
  },
  {
   "cell_type": "code",
   "execution_count": 4,
   "id": "9ff10ec7-95ef-443c-a58c-9fc9880702d7",
   "metadata": {},
   "outputs": [
    {
     "name": "stdout",
     "output_type": "stream",
     "text": [
      "=== Sales Summary ===\n",
      "      product  total_qty  revenue\n",
      "0      Laptop          4  3599.96\n",
      "1  Headphones         14   819.86\n",
      "2     Monitor          2   399.98\n",
      "3       Mouse         15   339.85\n",
      "4    Keyboard          5   299.95\n"
     ]
    }
   ],
   "source": [
    "print(\"=== Sales Summary ===\")\n",
    "print(df)"
   ]
  },
  {
   "cell_type": "code",
   "execution_count": 5,
   "id": "569c0e98-52b8-40bd-9615-5ab72550d30b",
   "metadata": {},
   "outputs": [
    {
     "data": {
      "image/png": "[encoded data removed]",
      "text/plain": [
       "<Figure size 600x400 with 1 Axes>"
      ]
     },
     "metadata": {},
     "output_type": "display_data"
    }
   ],
   "source": [
    "plt.figure(figsize=(6, 4))\n",
    "plt.bar(df['product'], df['revenue'], color='skyblue')\n",
    "plt.title('Revenue by Product')\n",
    "plt.xlabel('Product')\n",
    "plt.ylabel('Revenue ($)')\n",
    "plt.tight_layout()\n",
    "plt.show()"
   ]
  },
  {
   "cell_type": "code",
   "execution_count": 6,
   "id": "096612d7-d88a-4c77-b377-5eeacf8abb93",
   "metadata": {},
   "outputs": [
    {
     "data": {
      "text/plain": [
       "<Figure size 640x480 with 0 Axes>"
      ]
     },
     "metadata": {},
     "output_type": "display_data"
    }
   ],
   "source": [
    "plt.savefig(\"sales_chart.png\")"
   ]
  },
  {
   "cell_type": "code",
   "execution_count": 7,
   "id": "03936a26-b26b-49de-9917-e959633478ec",
   "metadata": {},
   "outputs": [],
   "source": [
    "conn.close()"
   ]
  },
  {
   "cell_type": "code",
   "execution_count": null,
   "id": "880a136c-236f-402b-a5de-a3f0891b0b1a",
   "metadata": {},
   "outputs": [],
   "source": []
  }
 ],
 "metadata": {
  "kernelspec": {
   "display_name": "Python [conda env:base] *",
   "language": "python",
   "name": "conda-base-py"
  },
  "language_info": {
   "codemirror_mode": {
    "name": "ipython",
    "version": 3
   },
   "file_extension": ".py",
   "mimetype": "text/x-python",
   "name": "python",
   "nbconvert_exporter": "python",
   "pygments_lexer": "ipython3",
   "version": "3.12.7"
  }
 },
 "nbformat": 4,
 "nbformat_minor": 5
}
